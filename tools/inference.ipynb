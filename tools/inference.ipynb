{
 "cells": [
  {
   "cell_type": "code",
   "id": "initial_id",
   "metadata": {
    "collapsed": true
   },
   "source": [
    "import os, subprocess\n",
    "from pathlib import Path"
   ],
   "outputs": [],
   "execution_count": null
  },
  {
   "metadata": {},
   "cell_type": "code",
   "source": [
    "def get_current_dir_fun() -> str:\n",
    "    return \"exec('import os') or (str(globals()['_dh'][0]) if globals().get('_dh') else os.path.dirname(os.path.realpath(__file__)))\"\n",
    "\n",
    "def get_free_gpu_id() -> str:\n",
    "    GPU_ID = subprocess.getoutput(\n",
    "        'nvidia-smi --query-gpu=memory.free --format=csv,nounits,noheader | nl -v 0 | sort -nrk 2 | cut -f 1| head -n 1 | xargs')\n",
    "    return GPU_ID"
   ],
   "id": "441495230d983309",
   "outputs": [],
   "execution_count": null
  },
  {
   "metadata": {},
   "cell_type": "code",
   "source": [
    "__current_dir__ = eval(get_current_dir_fun())\n",
    "mmseg_path = str(Path(__current_dir__).parent)\n",
    "os.chdir(mmseg_path)\n",
    "print(f'Change work directory to: {mmseg_path}')\n",
    "\n",
    "os.environ['CUDA_VISIBLE_DEVICES'] = get_free_gpu_id()\n",
    "print(f'USE GPU: {os.environ[\"CUDA_VISIBLE_DEVICES\"]}')"
   ],
   "id": "d37f4224d822db59",
   "outputs": [],
   "execution_count": null
  },
  {
   "metadata": {},
   "cell_type": "code",
   "source": [
    "import time\n",
    "import torch\n",
    "from mmengine import Config\n",
    "from mmengine.model.utils import revert_sync_batchnorm\n",
    "from mmengine.registry import init_default_scope\n",
    "from mmengine.runner import Runner, load_checkpoint\n",
    "from mmseg.registry import MODELS\n",
    "from matplotlib import pyplot as plt"
   ],
   "id": "6320579cbf6a3ab2",
   "outputs": [],
   "execution_count": null
  },
  {
   "metadata": {},
   "cell_type": "markdown",
   "source": "### Download the pretrained model",
   "id": "a04ba6bac058de90"
  },
  {
   "metadata": {},
   "cell_type": "code",
   "source": "ckpt_file = 'pretrained_models/FFDN.pth'",
   "id": "1a5c5a377d3bfab3",
   "outputs": [],
   "execution_count": null
  },
  {
   "metadata": {},
   "cell_type": "code",
   "source": [
    "# Check dataset structure:\n",
    "# data\n",
    "# └── DocTamperV1\n",
    "#     ├── unzip_files\n",
    "#     │   ├── DocTamperV1-TrainingSet\n",
    "#     │   ├── DocTamperV1-TestingSet\n",
    "#     │   ├── DocTamperV1-FCD\n",
    "#     │   └── DocTamperV1-SCD\n",
    "#     ├── pks\n",
    "#     │   ├── DocTamperV1-TestingSet_75.pk\n",
    "#     │   ├── DocTamperV1-FCD_75.pk\n",
    "#     │   └── DocTamperV1-SCD_75.pk\n",
    "#     └── processed\n",
    "#         ├── train.txt\n",
    "#         ├── val.txt\n",
    "#         ├── fcd.txt\n",
    "#         └── scd.txt\n",
    "\n",
    "assert os.path.exists('./data/DocTamperV1/processed/val.txt')\n",
    "assert os.path.exists('./data/DocTamperV1/pks/DocTamperV1-TestingSet_75.pk')\n",
    "assert os.path.exists('./data/DocTamperV1/unzip_files/DocTamperV1-TestingSet'), 'Dataset not found, please download the dataset first'"
   ],
   "id": "4c836dfa5ef8bd08",
   "outputs": [],
   "execution_count": null
  },
  {
   "metadata": {},
   "cell_type": "code",
   "source": [
    "# build dataloader\n",
    "\n",
    "os.environ['compress_pk_file'] = './data/DocTamperV1/pks/DocTamperV1-TestingSet_75.pk'\n",
    "os.environ['val_db_path'] ='./data/DocTamperV1/unzip_files/DocTamperV1-TestingSet'\n",
    "\n",
    "config_file = 'work_config/FFDN/FFDN.py'\n",
    "cfg = Config.fromfile(config_file)\n",
    "\n",
    "init_default_scope(cfg.get('default_scope', 'mmseg'))\n",
    "cfg.model.data_preprocessor.binary_seg = False\n",
    "cfg.test_dataloader.batch_size = 1\n",
    "timestamp = time.strftime('%Y%m%d_%H%M%S', time.localtime())\n",
    "\n",
    "cfg.test_dataloader.dataset.ann_file=\"processed/val.txt\"\n",
    "cfg.model.pretrained = None\n",
    "cfg.model.train_cfg = None\n",
    "cfg.test_dataloader.batch_size = 1"
   ],
   "id": "7fdaad11a776617a",
   "outputs": [],
   "execution_count": null
  },
  {
   "metadata": {},
   "cell_type": "code",
   "source": "data_loader = Runner.build_dataloader(cfg.test_dataloader)",
   "id": "95f059f086574b18",
   "outputs": [],
   "execution_count": null
  },
  {
   "metadata": {},
   "cell_type": "code",
   "source": [
    "# build model\n",
    "model = MODELS.build(cfg.model)\n",
    "if hasattr(model, 'auxiliary_head'):\n",
    "    model.auxiliary_head = None\n",
    "if torch.cuda.is_available():\n",
    "    model = model.cuda()\n",
    "\n",
    "model = revert_sync_batchnorm(model)\n",
    "\n",
    "model.eval()\n",
    "print(f'Create model with config: {config_file}')"
   ],
   "id": "247829bb10b6172a",
   "outputs": [],
   "execution_count": null
  },
  {
   "metadata": {},
   "cell_type": "code",
   "source": "load_checkpoint(model, ckpt_file, map_location='cpu')",
   "id": "73cc83198440b03f",
   "outputs": [],
   "execution_count": null
  },
  {
   "metadata": {},
   "cell_type": "code",
   "source": [
    "data_iter = iter(data_loader) if globals().get('data_iter') is None else data_iter\n",
    "example_data = next(data_iter)\n",
    "\n",
    "example_data = model.data_preprocessor(example_data)\n",
    "outs = model(example_data['inputs'], example_data['data_samples'], mode='predict')\n",
    "\n",
    "gts = [data.gt_sem_seg.data for data in example_data['data_samples']]\n",
    "segs = [out.pred_sem_seg.data for out in outs]"
   ],
   "id": "f9c7fe14b8698fef",
   "outputs": [],
   "execution_count": null
  },
  {
   "metadata": {},
   "cell_type": "markdown",
   "source": "### Visualize the segmentation results",
   "id": "36db81f2de0e11ac"
  },
  {
   "metadata": {},
   "cell_type": "code",
   "source": [
    "input_image = example_data['inputs']['x'].cpu().squeeze(0).permute(1, 2, 0).numpy()\n",
    "input_image = (input_image - input_image.min()) / (input_image.max() - input_image.min())\n",
    "gt_image = gts[0].cpu().squeeze(0).numpy()\n",
    "seg_image = segs[0].cpu().squeeze(0).numpy()\n",
    "\n",
    "# Create a figure with 3 subplots\n",
    "fig, (ax1, ax2, ax3) = plt.subplots(1, 3, figsize=(15, 5))\n",
    "\n",
    "# Plot input image\n",
    "ax1.imshow(input_image)\n",
    "ax1.set_title('Input Image')\n",
    "ax1.axis('off')\n",
    "\n",
    "# Plot ground truth\n",
    "ax2.imshow(gt_image, cmap='gray')\n",
    "ax2.set_title('Ground Truth')\n",
    "ax2.axis('off')\n",
    "\n",
    "# Plot segmentation\n",
    "ax3.imshow(seg_image, cmap='gray')\n",
    "ax3.set_title('Segmentation')\n",
    "ax3.axis('off')\n",
    "\n",
    "plt.tight_layout()\n",
    "plt.show()"
   ],
   "id": "c52ce32cb2dd8d2b",
   "outputs": [],
   "execution_count": null
  },
  {
   "metadata": {},
   "cell_type": "code",
   "source": "",
   "id": "e5e27adbb284feeb",
   "outputs": [],
   "execution_count": null
  }
 ],
 "metadata": {
  "kernelspec": {
   "display_name": "Python 3",
   "language": "python",
   "name": "python3"
  },
  "language_info": {
   "codemirror_mode": {
    "name": "ipython",
    "version": 2
   },
   "file_extension": ".py",
   "mimetype": "text/x-python",
   "name": "python",
   "nbconvert_exporter": "python",
   "pygments_lexer": "ipython2",
   "version": "2.7.6"
  }
 },
 "nbformat": 4,
 "nbformat_minor": 5
}
